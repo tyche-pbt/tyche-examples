{
 "cells": [
  {
   "cell_type": "markdown",
   "metadata": {},
   "source": [
    "# Tyche Analysis of Properties\n",
    "\n",
    "Property-based testing is an advanced software testing methodology that emphasizes the specification\n",
    "of general properties that code should uphold, rather than focusing on specific input-output\n",
    "examples. In this approach, a wide range of input data is automatically generated, and the code is\n",
    "tested against these inputs to ensure that it satisfies the specified properties.\n",
    "\n",
    "In essence, property-based testing is a cutting-edge quality assurance approach that aligns with\n",
    "goals of developing resilient, secure, and high-performance software for defense applications or\n",
    "critical business systems. It's a strategic investment in ensuring the reliability and integrity of\n",
    "software in the face of evolving challenges."
   ]
  },
  {
   "cell_type": "markdown",
   "metadata": {},
   "source": [
    "This report was generated as a Jupyter Notebook, an interactive computing environment that allows\n",
    "users to create and share documents containing live code, equations, visualizations, and narrative\n",
    "text. The following code is exactly the code that was used to generate the reports, based on data\n",
    "collected while testing our system."
   ]
  },
  {
   "cell_type": "code",
   "execution_count": null,
   "metadata": {},
   "outputs": [],
   "source": [
    "import pandas as pd\n",
    "import matplotlib.pyplot as plt\n",
    "\n",
    "df = pd.read_json('testcases.jsonl', lines=True)\n",
    "df = df[df['type'] == 'test_case']\n",
    "df.groupby(['property', 'status']).size()\n",
    "groups = df.groupby('property')\n",
    "\n",
    "features = {}\n",
    "for (k, group) in groups:\n",
    "    features[k] = pd.DataFrame(group[\"features\"].tolist())"
   ]
  },
  {
   "cell_type": "markdown",
   "metadata": {},
   "source": [
    "## Features\n",
    "\n",
    "These reports show the breadth of data used to test our application."
   ]
  },
  {
   "cell_type": "code",
   "execution_count": null,
   "metadata": {},
   "outputs": [],
   "source": [
    "for (k, feature) in features.items():\n",
    "    feature[''].value_counts().sort_index().plot(title=k, kind='bar')\n",
    "    plt.show()"
   ]
  },
  {
   "cell_type": "code",
   "execution_count": null,
   "metadata": {},
   "outputs": [],
   "source": [
    "for (k, feature) in features.items():\n",
    "    pcts = feature['is_bst'].value_counts(normalize=True) * 100\n",
    "    pcts.plot(title=k, kind=\"pie\", autopct='%1.1f%%', startangle=90)\n",
    "    plt.show()"
   ]
  }
 ],
 "metadata": {
  "kernelspec": {
   "display_name": "Python 3",
   "language": "python",
   "name": "python3"
  },
  "language_info": {
   "codemirror_mode": {
    "name": "ipython",
    "version": 3
   },
   "file_extension": ".py",
   "mimetype": "text/x-python",
   "name": "python",
   "nbconvert_exporter": "python",
   "pygments_lexer": "ipython3",
   "version": "3.10.5"
  }
 },
 "nbformat": 4,
 "nbformat_minor": 2
}
